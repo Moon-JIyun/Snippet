{
 "cells": [
  {
   "cell_type": "code",
   "execution_count": 40,
   "id": "559d08d9",
   "metadata": {},
   "outputs": [],
   "source": [
    "import os\n",
    "import numpy as np\n",
    "from PIL import Image as PILImage\n",
    "from openpyxl import Workbook\n",
    "from openpyxl.drawing.image import Image\n",
    "from openpyxl.styles import Alignment\n",
    "from openpyxl.utils import get_column_letter\n",
    "from io import BytesIO\n",
    "from datetime import datetime\n",
    "import time"
   ]
  },
  {
   "cell_type": "code",
   "execution_count": 3,
   "id": "e9eb010c",
   "metadata": {},
   "outputs": [
    {
     "data": {
      "text/plain": [
       "['Result',\n",
       " '.DS_Store',\n",
       " 'Untitled.ipynb',\n",
       " 'Tele Flare_230907',\n",
       " 'test.py',\n",
       " 'add_image.py',\n",
       " 'raw_to_jpg.py',\n",
       " '.ipynb_checkpoints',\n",
       " 'main.py',\n",
       " '.idea']"
      ]
     },
     "execution_count": 3,
     "metadata": {},
     "output_type": "execute_result"
    }
   ],
   "source": [
    "os.listdir()"
   ]
  },
  {
   "cell_type": "code",
   "execution_count": 4,
   "id": "17aaff9c",
   "metadata": {},
   "outputs": [
    {
     "data": {
      "text/plain": [
       "['.DS_Store', 'SPL2', 'SPL1']"
      ]
     },
     "execution_count": 4,
     "metadata": {},
     "output_type": "execute_result"
    }
   ],
   "source": [
    "os.listdir('./Tele Flare_230907')"
   ]
  },
  {
   "cell_type": "code",
   "execution_count": 5,
   "id": "f52e7b73",
   "metadata": {},
   "outputs": [],
   "source": [
    "root_dir = './Tele Flare_230907'"
   ]
  },
  {
   "cell_type": "code",
   "execution_count": 6,
   "id": "b4f76121",
   "metadata": {},
   "outputs": [],
   "source": [
    "#Tele image size\n",
    "width = 3976\n",
    "height = 2736"
   ]
  },
  {
   "cell_type": "code",
   "execution_count": 7,
   "id": "74178f58",
   "metadata": {},
   "outputs": [],
   "source": [
    "samples = [os.path.join(root_dir, sample) for sample in os.listdir(root_dir) if not sample.startswith('.DS_')]        "
   ]
  },
  {
   "cell_type": "code",
   "execution_count": 31,
   "id": "0137df34",
   "metadata": {},
   "outputs": [
    {
     "name": "stdout",
     "output_type": "stream",
     "text": [
      "['./Tele Flare_230907/SPL2', './Tele Flare_230907/SPL1']\n",
      "['./Tele Flare_230907/SPL1', './Tele Flare_230907/SPL2']\n"
     ]
    }
   ],
   "source": [
    "print(samples)\n",
    "samples = sorted(samples, key=lambda x: str(x.split('/')[2]), reverse= False)\n",
    "print(samples)"
   ]
  },
  {
   "cell_type": "code",
   "execution_count": 42,
   "id": "a0e0be3a",
   "metadata": {},
   "outputs": [],
   "source": []
  },
  {
   "cell_type": "code",
   "execution_count": 46,
   "id": "f17591c5",
   "metadata": {},
   "outputs": [
    {
     "name": "stdout",
     "output_type": "stream",
     "text": [
      "./Tele Flare_230907/SPL1\n",
      "./Tele Flare_230907/SPL2\n",
      "33.74659 sec\n"
     ]
    }
   ],
   "source": [
    "start_time = time.time()\n",
    "workbook = Workbook()\n",
    "for sample in samples:\n",
    "    print(sample)\n",
    "    directions = [os.path.join(sample, direction) for direction in os.listdir(sample) if not direction.startswith('.DS')]\n",
    "    new_sheet = workbook.create_sheet(title = sample.split('/')[2])\n",
    "    workbook.active = new_sheet\n",
    "    sheet = workbook.active\n",
    "    \n",
    "    row = 3\n",
    "    column = 3\n",
    "    \n",
    "    for direction in directions:\n",
    "        raw_images = [os.path.join(direction, image) for image in os.listdir(direction) if not image.startswith('.DS')]\n",
    "        for raw in raw_images:\n",
    "            if \".DS_\" not in raw and raw[-4:] != \".jpg\":\n",
    "#                 plus_save_folder = direction+\"new+\"\n",
    "#                 minus_save_folder = direction+\"new-\"\n",
    "#                 os.makedirs(plus_save_folder, exist_ok = True)\n",
    "#                 os.makedirs(minus_save_folder, exist_ok = True)\n",
    "                new_dir = direction+\"_jpg\"\n",
    "                os.makedirs(new_dir, exist_ok = True)\n",
    "                with open(raw, \"rb\") as f:\n",
    "                    raw_data = np.fromfile(f, dtype=np.uint16)\n",
    "                    raw_data = raw_data >> 2\n",
    "                    raw_data = raw_data.astype(np.uint8)\n",
    "\n",
    "                    img = PILImage.frombytes(\"L\", (width, height), raw_data)\n",
    "                    \n",
    "                    if '-' in raw:\n",
    "                        idx = raw.find('-')\n",
    "#                         print(idx)\n",
    "                        output = os.path.join(new_dir, raw[idx:-4])\n",
    "                        new_fileName = output + '.jpg'\n",
    "                        img.save(new_fileName, \"jpeg\")\n",
    "                    else:\n",
    "                        if len(raw) == 32:\n",
    "                            output = os.path.join(new_dir, raw[-5:-4])\n",
    "                        else:\n",
    "                            output = os.path.join(new_dir, raw[-6:-4])\n",
    "                        new_fileName = output+'.jpg'\n",
    "                        img.save(new_fileName, \"jpeg\")\n",
    "            \n",
    "\n",
    "        images = [img for img in os.listdir(new_dir) if not new_dir.startswith(\".DS\")]\n",
    "#         print(images)\n",
    "        images = sorted(images, key=lambda x: int(x.split('.')[0]), reverse= False)\n",
    "#         print(images)\n",
    "\n",
    "        for image in images:\n",
    "            image_path = os.path.join(new_dir, image)\n",
    "            img = PILImage.open(image_path)\n",
    "            img_width, img_height = int(img.width)*0.1, int(img.height)*0.1\n",
    "            img.thumbnail((img_width, img_height))\n",
    "            \n",
    "            img_bytes = BytesIO()\n",
    "            img.save(img_bytes, format='JPEG')\n",
    "            \n",
    "            sheet.column_dimensions[get_column_letter(column)].width = img_width * 0.14\n",
    "            sheet.row_dimensions[row].height = img_height * 0.75\n",
    "\n",
    "            cell = sheet.cell(row=row, column=column)\n",
    "            \n",
    "            img = Image(img_bytes)\n",
    "#             print(img)\n",
    "            sheet.add_image(img, f'{get_column_letter(column)}{row}')\n",
    "            # 이미지 파일명 삽입\n",
    "            file_name_cell = sheet.cell(row=row-1, column=column)\n",
    "            file_name_cell.value = image[:-4]\n",
    "            file_name_cell.alignment = Alignment(horizontal='center', vertical='center')\n",
    "\n",
    "            # 다음 셀로 이동\n",
    "            column += 1\n",
    "        row += 2\n",
    "        column = 3\n",
    "create_time = datetime.today().strftime('%Y%m%d')\n",
    "workbook.save(\"./output_\"+create_time+'.xlsx')\n",
    "end_time = time.time()\n",
    "\n",
    "print(f\"{end_time - start_time:.5f} sec\")"
   ]
  },
  {
   "cell_type": "code",
   "execution_count": 11,
   "id": "0bf9648f",
   "metadata": {},
   "outputs": [
    {
     "name": "stdout",
     "output_type": "stream",
     "text": [
      "./Tele Flare_230907/SPL1/V/13.raw\n"
     ]
    },
    {
     "data": {
      "text/plain": [
       "33"
      ]
     },
     "execution_count": 11,
     "metadata": {},
     "output_type": "execute_result"
    }
   ],
   "source": [
    "print(raw)\n",
    "len(raw)"
   ]
  },
  {
   "cell_type": "code",
   "execution_count": null,
   "id": "24db8861",
   "metadata": {},
   "outputs": [],
   "source": []
  }
 ],
 "metadata": {
  "kernelspec": {
   "display_name": "Python 3 (ipykernel)",
   "language": "python",
   "name": "python3"
  },
  "language_info": {
   "codemirror_mode": {
    "name": "ipython",
    "version": 3
   },
   "file_extension": ".py",
   "mimetype": "text/x-python",
   "name": "python",
   "nbconvert_exporter": "python",
   "pygments_lexer": "ipython3",
   "version": "3.11.4"
  }
 },
 "nbformat": 4,
 "nbformat_minor": 5
}
